{
 "cells": [
  {
   "cell_type": "code",
   "execution_count": 1,
   "id": "aaab8cea-24b3-4ed8-a8ad-fc364799d6c2",
   "metadata": {},
   "outputs": [],
   "source": [
    "import pandas as pd"
   ]
  },
  {
   "cell_type": "code",
   "execution_count": 2,
   "id": "ff954519-8977-4fb8-83bf-f6bfbdbc1742",
   "metadata": {},
   "outputs": [],
   "source": [
    "df=pd.read_csv(\"https://raw.githubusercontent.com/datasciencedojo/datasets/master/titanic.csv\")"
   ]
  },
  {
   "cell_type": "code",
   "execution_count": 3,
   "id": "f94c0714-3bed-45f9-bed3-a232660f885e",
   "metadata": {},
   "outputs": [
    {
     "data": {
      "text/plain": [
       "Index(['PassengerId', 'Survived', 'Pclass', 'Name', 'Sex', 'Age', 'SibSp',\n",
       "       'Parch', 'Ticket', 'Fare', 'Cabin', 'Embarked'],\n",
       "      dtype='object')"
      ]
     },
     "execution_count": 3,
     "metadata": {},
     "output_type": "execute_result"
    }
   ],
   "source": [
    "df.columns"
   ]
  },
  {
   "cell_type": "code",
   "execution_count": 9,
   "id": "6dcc3030-37dc-4482-9072-8ca0c6f8a1d4",
   "metadata": {},
   "outputs": [],
   "source": [
    "s=df['Name'][0:10]"
   ]
  },
  {
   "cell_type": "code",
   "execution_count": 10,
   "id": "9b19c8fd-9c30-4d83-bf51-66241e5845d9",
   "metadata": {},
   "outputs": [
    {
     "data": {
      "text/plain": [
       "10"
      ]
     },
     "execution_count": 10,
     "metadata": {},
     "output_type": "execute_result"
    }
   ],
   "source": [
    "len(s)"
   ]
  },
  {
   "cell_type": "code",
   "execution_count": 11,
   "id": "ff8723b4-3993-4b56-bfdd-1b231eb03f89",
   "metadata": {},
   "outputs": [
    {
     "data": {
      "text/plain": [
       "pandas.core.series.Series"
      ]
     },
     "execution_count": 11,
     "metadata": {},
     "output_type": "execute_result"
    }
   ],
   "source": [
    "type(s)"
   ]
  },
  {
   "cell_type": "code",
   "execution_count": 12,
   "id": "c1de281a-6305-4b2d-807e-b023bf395599",
   "metadata": {},
   "outputs": [
    {
     "data": {
      "text/plain": [
       "0                              Braund, Mr. Owen Harris\n",
       "1    Cumings, Mrs. John Bradley (Florence Briggs Th...\n",
       "2                               Heikkinen, Miss. Laina\n",
       "3         Futrelle, Mrs. Jacques Heath (Lily May Peel)\n",
       "4                             Allen, Mr. William Henry\n",
       "5                                     Moran, Mr. James\n",
       "6                              McCarthy, Mr. Timothy J\n",
       "7                       Palsson, Master. Gosta Leonard\n",
       "8    Johnson, Mrs. Oscar W (Elisabeth Vilhelmina Berg)\n",
       "9                  Nasser, Mrs. Nicholas (Adele Achem)\n",
       "Name: Name, dtype: object"
      ]
     },
     "execution_count": 12,
     "metadata": {},
     "output_type": "execute_result"
    }
   ],
   "source": [
    "s"
   ]
  },
  {
   "cell_type": "code",
   "execution_count": 13,
   "id": "bdf5290a-9045-48a9-90d2-ea3a57e25567",
   "metadata": {},
   "outputs": [],
   "source": [
    "l=['a','b','c','d','e','f','g','h','i','j']"
   ]
  },
  {
   "cell_type": "code",
   "execution_count": 19,
   "id": "e75a7880-0e05-42b8-8411-6d8a3b1528d9",
   "metadata": {},
   "outputs": [],
   "source": [
    "s1=pd.Series(list(s),index=l)"
   ]
  },
  {
   "cell_type": "code",
   "execution_count": 20,
   "id": "72c60f62-fa26-4853-b51c-eb6763d377b2",
   "metadata": {},
   "outputs": [
    {
     "data": {
      "text/plain": [
       "'Braund, Mr. Owen Harris'"
      ]
     },
     "execution_count": 20,
     "metadata": {},
     "output_type": "execute_result"
    }
   ],
   "source": [
    "s[0]"
   ]
  },
  {
   "cell_type": "code",
   "execution_count": 21,
   "id": "e3e12baa-16a4-4253-92bb-7fb1009e2677",
   "metadata": {},
   "outputs": [
    {
     "data": {
      "text/plain": [
       "'Braund, Mr. Owen Harris'"
      ]
     },
     "execution_count": 21,
     "metadata": {},
     "output_type": "execute_result"
    }
   ],
   "source": [
    "s1[0]"
   ]
  },
  {
   "cell_type": "code",
   "execution_count": 22,
   "id": "4730709a-6a89-4bdf-ab32-3ffaf4f07353",
   "metadata": {},
   "outputs": [
    {
     "data": {
      "text/plain": [
       "'Braund, Mr. Owen Harris'"
      ]
     },
     "execution_count": 22,
     "metadata": {},
     "output_type": "execute_result"
    }
   ],
   "source": [
    "s1['a']"
   ]
  },
  {
   "cell_type": "code",
   "execution_count": 24,
   "id": "df24d23f-23ab-41f0-9078-4480f5f583e8",
   "metadata": {},
   "outputs": [
    {
     "name": "stderr",
     "output_type": "stream",
     "text": [
      "/tmp/ipykernel_70/2552242485.py:1: FutureWarning: The series.append method is deprecated and will be removed from pandas in a future version. Use pandas.concat instead.\n",
      "  s2=s1.append(s)\n"
     ]
    }
   ],
   "source": [
    "s2=s1.append(s)"
   ]
  },
  {
   "cell_type": "code",
   "execution_count": 26,
   "id": "049898e2-898d-4774-aaee-79383086322d",
   "metadata": {},
   "outputs": [
    {
     "data": {
      "text/plain": [
       "'Allen, Mr. William Henry'"
      ]
     },
     "execution_count": 26,
     "metadata": {},
     "output_type": "execute_result"
    }
   ],
   "source": [
    "s2[4]"
   ]
  },
  {
   "cell_type": "code",
   "execution_count": 41,
   "id": "6a54fbe7-66c3-4a30-962b-8d377b5cc8c3",
   "metadata": {},
   "outputs": [],
   "source": [
    "s4=pd.Series([3,4,5,6,6] ,index=[2,4,5,6,1])"
   ]
  },
  {
   "cell_type": "code",
   "execution_count": 42,
   "id": "442bde69-2fe8-400e-8166-290931effbf4",
   "metadata": {},
   "outputs": [],
   "source": [
    "s5=pd.Series([34,345,45,45,454] ,index=[9,4,5,6,7])"
   ]
  },
  {
   "cell_type": "code",
   "execution_count": 45,
   "id": "9d677208-673c-46a3-af49-c14db847e152",
   "metadata": {},
   "outputs": [
    {
     "name": "stderr",
     "output_type": "stream",
     "text": [
      "/tmp/ipykernel_70/884104408.py:1: FutureWarning: The series.append method is deprecated and will be removed from pandas in a future version. Use pandas.concat instead.\n",
      "  s6=s4.append(s5)\n"
     ]
    }
   ],
   "source": [
    "s6=s4.append(s5)"
   ]
  },
  {
   "cell_type": "code",
   "execution_count": 49,
   "id": "69096eaf-a227-426a-b632-9811dafc74d3",
   "metadata": {},
   "outputs": [
    {
     "data": {
      "text/plain": [
       "4      4\n",
       "4    345\n",
       "dtype: int64"
      ]
     },
     "execution_count": 49,
     "metadata": {},
     "output_type": "execute_result"
    }
   ],
   "source": [
    "s6[4]"
   ]
  },
  {
   "cell_type": "code",
   "execution_count": 47,
   "id": "9a171eac-2bc3-45cd-b97a-06b0b1d8a93b",
   "metadata": {},
   "outputs": [
    {
     "data": {
      "text/plain": [
       "2      3\n",
       "4      4\n",
       "5      5\n",
       "6      6\n",
       "1      6\n",
       "9     34\n",
       "4    345\n",
       "5     45\n",
       "6     45\n",
       "7    454\n",
       "dtype: int64"
      ]
     },
     "execution_count": 47,
     "metadata": {},
     "output_type": "execute_result"
    }
   ],
   "source": [
    "s6"
   ]
  },
  {
   "cell_type": "code",
   "execution_count": 50,
   "id": "a0a7710e-a1f7-4e64-8079-e8065c08c8f0",
   "metadata": {},
   "outputs": [
    {
     "name": "stderr",
     "output_type": "stream",
     "text": [
      "/tmp/ipykernel_70/2671872114.py:1: FutureWarning: The behavior of `series[i:j]` with an integer-dtype index is deprecated. In a future version, this will be treated as *label-based* indexing, consistent with e.g. `series[i]` lookups. To retain the old behavior, use `series.iloc[i:j]`. To get the future behavior, use `series.loc[i:j]`.\n",
      "  s6[0:5]\n"
     ]
    },
    {
     "data": {
      "text/plain": [
       "2    3\n",
       "4    4\n",
       "5    5\n",
       "6    6\n",
       "1    6\n",
       "dtype: int64"
      ]
     },
     "execution_count": 50,
     "metadata": {},
     "output_type": "execute_result"
    }
   ],
   "source": [
    "s6[0:5]"
   ]
  },
  {
   "cell_type": "code",
   "execution_count": 51,
   "id": "c16dfcb3-7314-404b-96a3-287b69a86526",
   "metadata": {},
   "outputs": [
    {
     "data": {
      "text/plain": [
       "2    3\n",
       "4    4\n",
       "5    5\n",
       "6    6\n",
       "1    6\n",
       "dtype: int64"
      ]
     },
     "execution_count": 51,
     "metadata": {},
     "output_type": "execute_result"
    }
   ],
   "source": [
    "s4"
   ]
  },
  {
   "cell_type": "code",
   "execution_count": 52,
   "id": "b0255f93-e76d-4578-921a-55a2004b4fe6",
   "metadata": {},
   "outputs": [
    {
     "data": {
      "text/plain": [
       "9     34\n",
       "4    345\n",
       "5     45\n",
       "6     45\n",
       "7    454\n",
       "dtype: int64"
      ]
     },
     "execution_count": 52,
     "metadata": {},
     "output_type": "execute_result"
    }
   ],
   "source": [
    "s5"
   ]
  },
  {
   "cell_type": "code",
   "execution_count": 53,
   "id": "ece12ffa-0442-4984-b3c5-395cbbca97a4",
   "metadata": {},
   "outputs": [
    {
     "data": {
      "text/plain": [
       "1       NaN\n",
       "2       NaN\n",
       "4    1380.0\n",
       "5     225.0\n",
       "6     270.0\n",
       "7       NaN\n",
       "9       NaN\n",
       "dtype: float64"
      ]
     },
     "execution_count": 53,
     "metadata": {},
     "output_type": "execute_result"
    }
   ],
   "source": [
    "s4*s5"
   ]
  },
  {
   "cell_type": "code",
   "execution_count": 54,
   "id": "8105d976-1f03-466a-b493-0ca1251ca233",
   "metadata": {},
   "outputs": [
    {
     "data": {
      "text/plain": [
       "1      NaN\n",
       "2      NaN\n",
       "4    349.0\n",
       "5     50.0\n",
       "6     51.0\n",
       "7      NaN\n",
       "9      NaN\n",
       "dtype: float64"
      ]
     },
     "execution_count": 54,
     "metadata": {},
     "output_type": "execute_result"
    }
   ],
   "source": [
    "s4+s5"
   ]
  },
  {
   "cell_type": "code",
   "execution_count": null,
   "id": "787be110-50d4-4fb3-9ab0-e59b922b4ce2",
   "metadata": {},
   "outputs": [],
   "source": []
  }
 ],
 "metadata": {
  "kernelspec": {
   "display_name": "Python 3 (ipykernel)",
   "language": "python",
   "name": "python3"
  },
  "language_info": {
   "codemirror_mode": {
    "name": "ipython",
    "version": 3
   },
   "file_extension": ".py",
   "mimetype": "text/x-python",
   "name": "python",
   "nbconvert_exporter": "python",
   "pygments_lexer": "ipython3",
   "version": "3.10.8"
  }
 },
 "nbformat": 4,
 "nbformat_minor": 5
}
